{
  "nbformat": 4,
  "nbformat_minor": 0,
  "metadata": {
    "colab": {
      "name": "26-Reciprocal cycles.ipynb",
      "provenance": [],
      "collapsed_sections": [],
      "authorship_tag": "ABX9TyOu3lByLdqJPyxelVEJ9ESt",
      "include_colab_link": true
    },
    "kernelspec": {
      "name": "python3",
      "display_name": "Python 3"
    },
    "language_info": {
      "name": "python"
    }
  },
  "cells": [
    {
      "cell_type": "markdown",
      "metadata": {
        "id": "view-in-github",
        "colab_type": "text"
      },
      "source": [
        "<a href=\"https://colab.research.google.com/github/siniorone/Project-Euler/blob/main/26-Reciprocal%20cycles.ipynb\" target=\"_parent\"><img src=\"https://colab.research.google.com/assets/colab-badge.svg\" alt=\"Open In Colab\"/></a>"
      ]
    },
    {
      "cell_type": "markdown",
      "metadata": {
        "id": "rQtOmkz4WwWY"
      },
      "source": [
        "### Reciprocal cycles\n",
        "### Problem 26\n",
        "A unit fraction contains 1 in the numerator. The decimal representation of the unit fractions with denominators 2 to 10 are given:\n",
        "\n",
        "\n",
        "```\n",
        "1/2\t= \t0.5\n",
        "1/3\t= \t0.(3)\n",
        "1/4\t= \t0.25\n",
        "1/5\t= \t0.2\n",
        "1/6\t= \t0.1(6)\n",
        "1/7\t= \t0.(142857)\n",
        "1/8\t= \t0.125\n",
        "1/9\t= \t0.(1)\n",
        "1/10\t= \t0.1\n",
        "```\n",
        "\n",
        "\n",
        "Where 0.1(6) means 0.166666..., and has a 1-digit recurring cycle. It can be seen that 1/7 has a 6-digit recurring cycle.\n",
        "\n",
        "Find the value of d < 1000 for which 1/d contains the longest recurring cycle in its decimal fraction part.\n",
        "\n",
        "\n",
        "---\n",
        "#### Persian translation:\n",
        "<div dir='rtl' align='right'>\n",
        "کسر واحدی که صورت آن یک است را در نظر بگیرید. نمایش اعشاری این کسر به نحوی که مخرج آن اعداد 2 تا 10 باشد به شرح زیر است:\n",
        "</div>\n",
        "\n",
        "\n",
        "```\n",
        "1/2 = 0.5\n",
        "1/3= 0.(3)\n",
        "1/4 = 0.25\n",
        "1/5 = 0.2\n",
        "1/6 = 0.1(6)\n",
        "1/7 = 0.(142857)\n",
        "1/8 = 0.125\n",
        "1/9 = 0.(1)\n",
        "1/10 = 0.1\n",
        "```\n",
        "\n",
        "\n",
        "<div dir='rtl' align='right'>\n",
        "در اینجا (6)0.1 به معنای (... 66666)0.1 می باشد و در واقع یک حلقه تکرار یک رقمی دارد . همانطور که مشاهده می کند عدد 1/7 هم یک حلقه تکرار 6 رقمی دارد.\n",
        "عدد d   را بیابید به نحوی که یک به روی d\n",
        "دارای طولانی ترین حلقه تکرار باشد به شرطی که d<1000 باشد.\n",
        "</div>\n"
      ]
    },
    {
      "cell_type": "code",
      "metadata": {
        "id": "yoT7UAOl0Kvi"
      },
      "source": [
        "limit = 1000\n",
        "num_recurring_cycle = 0\n",
        "len_recurring_cycle = 0\n",
        "seq_recurring_cycle = \"\"\n",
        "for n in range(2 , limit):\n",
        "    remainder = {}\n",
        "    sequence = []\n",
        "    x = 1\n",
        "    while x not in remainder:\n",
        "       r = x\n",
        "       if x > n :\n",
        "           remainder[r] = x % n\n",
        "           sequence.append(int(x/n))\n",
        "           x = x % n\n",
        "       else:\n",
        "            remainder[r] = x % n\n",
        "            x *= 10\n",
        "    if len(sequence)>len_recurring_cycle:\n",
        "        len_recurring_cycle = len(sequence)\n",
        "        num_recurring_cycle = n\n",
        "        seq_recurring_cycle = sequence\n",
        "print(num_recurring_cycle , len_recurring_cycle) \n"
      ],
      "execution_count": null,
      "outputs": []
    },
    {
      "cell_type": "markdown",
      "metadata": {
        "id": "wcw9uRNoWsgJ"
      },
      "source": [
        "|Execution time | Google Colaboratory\n",
        "|---|---|\n",
        "|Second|0.10528874397277832|"
      ]
    }
  ]
}