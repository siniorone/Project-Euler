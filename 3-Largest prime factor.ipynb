{
 "cells": [
  {
   "cell_type": "markdown",
   "id": "a44695b7",
   "metadata": {},
   "source": [
    "### Largest prime factor\n",
    "### Problem 3\n",
    "\n",
    "#### The prime factors of 13195 are 5, 7, 13 and 29.\n",
    "#### What is the largest prime factor of the number 600851475143 ?\n",
    "\n",
    "#### persian translation:\n",
    "#### عوامل اول تجزیه عدد ۱۳۱۹۵ برابر است با ۵، ۷ ، ۱۳ و ۲۹\n",
    "#### بزرگترین عامل اول برای عدد ۶۰۰۸۵۱۴۷۵۱۴۳ کدام است؟"
   ]
  },
  {
   "cell_type": "code",
   "execution_count": 15,
   "id": "a07ffc8f",
   "metadata": {},
   "outputs": [
    {
     "name": "stdout",
     "output_type": "stream",
     "text": [
      "6857\n"
     ]
    }
   ],
   "source": [
    "def largest_prime(x):\n",
    "    p = 2\n",
    "    while p < x**0.5 :\n",
    "        if x % p: p +=1 \n",
    "        else : x /= p\n",
    "    return int(x)\n",
    "print(largest_prime(600851475143))    "
   ]
  }
 ],
 "metadata": {
  "kernelspec": {
   "display_name": "Python 3",
   "language": "python",
   "name": "python3"
  },
  "language_info": {
   "codemirror_mode": {
    "name": "ipython",
    "version": 3
   },
   "file_extension": ".py",
   "mimetype": "text/x-python",
   "name": "python",
   "nbconvert_exporter": "python",
   "pygments_lexer": "ipython3",
   "version": "3.8.8"
  }
 },
 "nbformat": 4,
 "nbformat_minor": 5
}
