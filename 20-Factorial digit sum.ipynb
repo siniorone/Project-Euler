{
  "nbformat": 4,
  "nbformat_minor": 0,
  "metadata": {
    "colab": {
      "name": "20-Factorial digit sum.ipynb",
      "provenance": [],
      "authorship_tag": "ABX9TyORiP8B3IZG4whA3jJ2lRcg"
    },
    "kernelspec": {
      "name": "python3",
      "display_name": "Python 3"
    },
    "language_info": {
      "name": "python"
    }
  },
  "cells": [
    {
      "cell_type": "markdown",
      "metadata": {
        "id": "pxbK_51oXzba"
      },
      "source": [
        "### Factorial digit sum\n",
        "### Problem 20\n",
        "n! means n × (n − 1) × ... × 3 × 2 × 1\n",
        "\n",
        "For example, 10! = 10 × 9 × ... × 3 × 2 × 1 = 3628800,\n",
        "and the sum of the digits in the number 10! is 3 + 6 + 2 + 8 + 8 + 0 + 0 = 27.\n",
        "\n",
        "Find the sum of the digits in the number 100!\n",
        "\n",
        "\n",
        "---\n",
        "#### persian translation:\n",
        "\n",
        "\n",
        "```\n",
        "n! \n",
        "برابر است با \n",
        "n × (n − 1) × ... × 3 × 2 × 1\n",
        "به عنوان مثال \n",
        "۱۰! = 10 × 9 × ... × 3 × 2 × 1 = 3628800\n",
        "و جمع ارقام !۱۰ برابر است با\n",
        "3 + 6 + 2 + 8 + 8 + 0 + 0 = 27.\n",
        "جمع ارقام !۱۰۰ را بیابید\n",
        "```\n",
        "\n",
        "\n",
        "\n"
      ]
    },
    {
      "cell_type": "code",
      "metadata": {
        "colab": {
          "base_uri": "https://localhost:8080/"
        },
        "id": "jqKNor6tLm2G",
        "outputId": "c7726d36-a9c7-4f3d-81d5-61f5f17b0336"
      },
      "source": [
        "def factoriel(n):\n",
        "    if n == 1:\n",
        "        return 1\n",
        "    return n * factoriel(n-1)\n",
        "\n",
        "mysum = 0\n",
        "for i in str(factoriel(100)):\n",
        "    mysum += int(i)\n",
        "print(mysum)\n"
      ],
      "execution_count": null,
      "outputs": [
        {
          "output_type": "stream",
          "text": [
            "648\n"
          ],
          "name": "stdout"
        }
      ]
    }
  ]
}