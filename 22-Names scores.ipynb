{
  "nbformat": 4,
  "nbformat_minor": 0,
  "metadata": {
    "colab": {
      "name": "22-Names scores.ipynb",
      "provenance": [],
      "authorship_tag": "ABX9TyNYp6t6oETkSTy1/MiPMB4+",
      "include_colab_link": true
    },
    "kernelspec": {
      "name": "python3",
      "display_name": "Python 3"
    },
    "language_info": {
      "name": "python"
    }
  },
  "cells": [
    {
      "cell_type": "markdown",
      "metadata": {
        "id": "view-in-github",
        "colab_type": "text"
      },
      "source": [
        "<a href=\"https://colab.research.google.com/github/siniorone/Project-Euler/blob/main/22-Names%20scores.ipynb\" target=\"_parent\"><img src=\"https://colab.research.google.com/assets/colab-badge.svg\" alt=\"Open In Colab\"/></a>"
      ]
    },
    {
      "cell_type": "markdown",
      "metadata": {
        "id": "3mEUSRzgcbMJ"
      },
      "source": [
        "### Names scores\n",
        "### Problem 22\n",
        "Using names.txt (right click and 'Save Link/Target As...'), a 46K text file containing over five-thousand first names, begin by sorting it into alphabetical order. Then working out the alphabetical value for each name, multiply this value by its alphabetical position in the list to obtain a name score.\n",
        "\n",
        "For example, when the list is sorted into alphabetical order, COLIN, which is worth 3 + 15 + 12 + 9 + 14 = 53, is the 938th name in the list. So, COLIN would obtain a score of 938 × 53 = 49714.\n",
        "\n",
        "What is the total of all the name scores in the file?\n",
        "---\n",
        "#### Persian translation:\n",
        "<div dir='rtl' align='right'>\n",
        "فایل [names.txt](https://projecteuler.net/project/resources/p022_names.txt)  (فایل را در کامپیوتر خود ذخیره کنید) یک فایل متنی 46K شامل بیش از پنج هزار نام کوچک است ، ابتدا آنها را به صورت الفبایی مرتب کنید ، سپس ارزش الفبایی هر نام را  به بدست بیاورید و آن را در پوزیشن الفبایی آن نام ضرب کنید تا  score آن نام را بدست بیاورید.\n",
        "به عنوان مثال چنانچه لیست نام ها را بر اساس حروف الفبا مرتب کنیم نام COLIN در جایگاه 938 ام قرار می گیرد و ارزش الفبایی آن نیز برابر است با \n",
        " 3 + 15 + 12 + 9 + 14 = 53\n",
        "بنابر این score  این اسم برابر است با : \n",
        "938 × 53 = 49714\n",
        "مجموع score تمام اسم های این فایل را محاسبه کنید.\n",
        "</div>"
      ]
    },
    {
      "cell_type": "code",
      "metadata": {
        "id": "1_devR-UcaEv"
      },
      "source": [
        "# Function to calculate alphabetical value for each name:\n",
        "def alphabetical_value(string):\n",
        "    value = 0\n",
        "    string = string.upper()\n",
        "    for s in string:\n",
        "        value += ord(s)\n",
        "    return (value - 64*len(string))\n",
        "\n",
        "# Reading the txt file and store it in a list\n",
        "f = open(\"dataset/p022_names.txt\", \"r\")\n",
        "names = f.read()\n",
        "names_list = names.split('\",\"')\n",
        "names_list[0] = names_list[0][1:]  # some modification\n",
        "names_list[-1] = names_list[-1][:-1]  # some modification\n",
        "\n",
        "names_list.sort()  # sorting names list into alphabetical order\n",
        "names_score = {}  # dictionary to store scores for each name\n",
        "\n",
        "# Calculation for loop:\n",
        "position = 0\n",
        "for name in names_list:\n",
        "    position += 1\n",
        "    names_score[name] = position*alphabetical_value(name)\n",
        "# Print result:\n",
        "print(sum([x for x in names_score.values()]))\n"
      ],
      "execution_count": null,
      "outputs": []
    }
  ]
}