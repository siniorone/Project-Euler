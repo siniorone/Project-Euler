{
  "nbformat": 4,
  "nbformat_minor": 0,
  "metadata": {
    "colab": {
      "name": "10-Summation of primes.ipynb",
      "provenance": [],
      "collapsed_sections": []
    },
    "kernelspec": {
      "name": "python3",
      "display_name": "Python 3"
    },
    "language_info": {
      "name": "python"
    }
  },
  "cells": [
    {
      "cell_type": "markdown",
      "metadata": {
        "id": "ZORl-mswdDtJ"
      },
      "source": [
        "### Summation of primes\n",
        "### Problem 10\n",
        "The sum of the primes below 10 is 2 + 3 + 5 + 7 = 17.\n",
        "Find the sum of all the primes below two million.\n",
        "#### persian translation :\n",
        "#### حاصل جمع اعداد اول زیر ده برابر است با :\n",
        "#### 2 + 3 + 5 + 7 = 17\n",
        "#### حاصل جمع اعداد اول زیر دو میلیون را بیابید\n",
        "\n"
      ]
    },
    {
      "cell_type": "code",
      "metadata": {
        "colab": {
          "base_uri": "https://localhost:8080/"
        },
        "id": "rULG2UIzfFKo",
        "outputId": "a5c69fc3-43cd-4fed-93e2-a36837c7702c"
      },
      "source": [
        "n = 2e6\n",
        "steper = 0\n",
        "primes = [2,3]\n",
        "count=2\n",
        "while True :\n",
        "    steper+=1\n",
        "#---------------------------------------------\n",
        "    a = steper * 6 - 1\n",
        "    if a > n : break\n",
        "    is_prime = True\n",
        "    for i in primes:\n",
        "        if i > int(a ** 0.5):\n",
        "            break\n",
        "        elif a % i == 0:\n",
        "            is_prime = False\n",
        "            break\n",
        "    if is_prime:\n",
        "        primes.append(a)\n",
        "        count += 1\n",
        "#---------------------------------------------\n",
        "    b = steper * 6 + 1\n",
        "    if b > n : break\n",
        "    is_prime = True\n",
        "    for i in primes:\n",
        "        if i > int(b ** 0.5):\n",
        "            break\n",
        "        elif b % i == 0:\n",
        "            is_prime = False\n",
        "            break\n",
        "    if is_prime:\n",
        "        primes.append(b)\n",
        "        count += 1\n",
        "#---------------------------------------------\n",
        "print(sum(primes) , count)"
      ],
      "execution_count": 3,
      "outputs": [
        {
          "output_type": "stream",
          "text": [
            "142913828922 148933\n"
          ],
          "name": "stdout"
        }
      ]
    }
  ]
}
