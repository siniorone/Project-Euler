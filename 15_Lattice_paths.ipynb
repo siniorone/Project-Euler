{
  "nbformat": 4,
  "nbformat_minor": 0,
  "metadata": {
    "colab": {
      "name": "15-Lattice paths.ipynb",
      "provenance": []
    },
    "kernelspec": {
      "name": "python3",
      "display_name": "Python 3"
    },
    "language_info": {
      "name": "python"
    }
  },
  "cells": [
    {
      "cell_type": "markdown",
      "metadata": {
        "id": "B5x5ZGH6_iD-"
      },
      "source": [
        "### Lattice paths\n",
        "### Problem 15\n",
        "Starting in the top left corner of a 2×2 grid, and only being able to move to the right and down, there are exactly 6 routes to the bottom right corner.\n",
        "#### ![image.png](data:image/png;base64,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)\n",
        "How many such routes are there through a 20×20 grid?\n",
        "\n",
        "\n",
        "---\n",
        "#### persian translation:\n",
        "چنانچه در شبکه ۲ در ۲ مقابل از راس بالا و چپ شروع به حرکت کنیم و تنها قادر باشیم که به سمت راست و پایین حرکت کنیم ، همانطور که در شکل می بینید دقیقا ۶ مسیر برای رسیدن به راس پایین و راست وجود دارد. چند مسیر با شرایط فوق برای یک شبکه ۲۰ در ۲۰ وجود دارد؟\n"
      ]
    },
    {
      "cell_type": "code",
      "metadata": {
        "colab": {
          "base_uri": "https://localhost:8080/"
        },
        "id": "SWvMMxpQq4b2",
        "outputId": "d1955ad2-e437-4cb7-df5b-82f5210189b1"
      },
      "source": [
        "n = 20\n",
        "def factoriel(n):\n",
        "    factoriel = 1\n",
        "    for i in range(n, 0, -1):\n",
        "        factoriel *= i\n",
        "    return factoriel\n",
        "\n",
        "print(int(factoriel(2*n)/(factoriel(n)*factoriel(n))))"
      ],
      "execution_count": 1,
      "outputs": [
        {
          "output_type": "stream",
          "text": [
            "137846528820\n"
          ],
          "name": "stdout"
        }
      ]
    }
  ]
}