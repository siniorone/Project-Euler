{
 "cells": [
  {
   "cell_type": "markdown",
   "id": "19f2c91b",
   "metadata": {},
   "source": [
    "### 10001st prime\n",
    "### Problem 7\n",
    "#### By listing the first six prime numbers: 2, 3, 5, 7, 11, and 13, we can see that the 6th prime is 13.What is the 10 001st prime number?\n",
    "#### persian translation:\n",
    "#### چنانچه لیست اعداد اول را بنویسیم:  2 , 3 ,5, 7, 11 , 13 متوجه می شویم که ششمین عدد اول 13 است. 10001 امین عدد اول را بیابید\n"
   ]
  },
  {
   "cell_type": "code",
   "execution_count": 1,
   "id": "39eb1855",
   "metadata": {},
   "outputs": [
    {
     "name": "stdout",
     "output_type": "stream",
     "text": [
      "104743\n"
     ]
    }
   ],
   "source": [
    "n = 10001\n",
    "steper = 0\n",
    "primes = [2,3]\n",
    "count = 2\n",
    "\n",
    "while count < n:\n",
    "    steper+=1\n",
    "#---------------------------------------------\n",
    "    a=steper*6-1\n",
    "    is_prime = True\n",
    "    for i in primes:\n",
    "        if i > int(a ** 0.5):\n",
    "            break\n",
    "        elif a % i == 0:\n",
    "            is_prime = False\n",
    "            break\n",
    "    if is_prime:\n",
    "        count += 1\n",
    "        primes.append(a)\n",
    "#---------------------------------------------\n",
    "    b=steper*6+1\n",
    "    is_prime = True\n",
    "    for i in primes:\n",
    "        if i > int(b ** 0.5):\n",
    "            break\n",
    "        elif b % i == 0:\n",
    "            is_prime = False\n",
    "            break\n",
    "    if is_prime:\n",
    "        count += 1\n",
    "        primes.append(b)\n",
    "#---------------------------------------------\n",
    "print(primes[-1])\n"
   ]
  }
 ],
 "metadata": {
  "kernelspec": {
   "display_name": "Python 3",
   "language": "python",
   "name": "python3"
  },
  "language_info": {
   "codemirror_mode": {
    "name": "ipython",
    "version": 3
   },
   "file_extension": ".py",
   "mimetype": "text/x-python",
   "name": "python",
   "nbconvert_exporter": "python",
   "pygments_lexer": "ipython3",
   "version": "3.8.8"
  }
 },
 "nbformat": 4,
 "nbformat_minor": 5
}
