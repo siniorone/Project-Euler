{
 "cells": [
  {
   "cell_type": "markdown",
   "id": "ccafb5ba",
   "metadata": {},
   "source": [
    "### Multiples of 3 and 5\n",
    "### Problem 1\n",
    "#### If we list all the natural numbers below 10 that are multiples of 3 or 5, we get 3, 5, 6 and 9. The sum of these multiples is 23. Find the sum of all the multiples of 3 or 5 below 1000.\n",
    "#### persian translation:\n",
    "#### اگر لیست اعداد طبیعی کمتر از ده که مضرب 3 یا 5 هستند 3،5،6،9 باشد و جمع این اعداد 23 باشد. جمع همه اعداد مضرب 3 یا 5 زیر 1000 را بیابید.\n"
   ]
  },
  {
   "cell_type": "code",
   "execution_count": 1,
   "id": "7f3b0ac4",
   "metadata": {},
   "outputs": [
    {
     "data": {
      "text/plain": [
       "233168"
      ]
     },
     "execution_count": 1,
     "metadata": {},
     "output_type": "execute_result"
    }
   ],
   "source": [
    "sum(set(range(0, 1000, 3)) | set(range(0, 1000, 5)))"
   ]
  }
 ],
 "metadata": {
  "kernelspec": {
   "display_name": "Python 3",
   "language": "python",
   "name": "python3"
  },
  "language_info": {
   "codemirror_mode": {
    "name": "ipython",
    "version": 3
   },
   "file_extension": ".py",
   "mimetype": "text/x-python",
   "name": "python",
   "nbconvert_exporter": "python",
   "pygments_lexer": "ipython3",
   "version": "3.8.8"
  }
 },
 "nbformat": 4,
 "nbformat_minor": 5
}
