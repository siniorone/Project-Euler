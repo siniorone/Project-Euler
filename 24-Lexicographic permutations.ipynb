{
  "nbformat": 4,
  "nbformat_minor": 0,
  "metadata": {
    "colab": {
      "name": "24-Lexicographic permutations.ipynb",
      "provenance": [],
      "collapsed_sections": [],
      "authorship_tag": "ABX9TyOxC24j6aHvJcb1QY+j9joJ",
      "include_colab_link": true
    },
    "kernelspec": {
      "name": "python3",
      "display_name": "Python 3"
    },
    "language_info": {
      "name": "python"
    }
  },
  "cells": [
    {
      "cell_type": "markdown",
      "metadata": {
        "id": "view-in-github",
        "colab_type": "text"
      },
      "source": [
        "<a href=\"https://colab.research.google.com/github/siniorone/Project-Euler/blob/main/24-Lexicographic%20permutations.ipynb\" target=\"_parent\"><img src=\"https://colab.research.google.com/assets/colab-badge.svg\" alt=\"Open In Colab\"/></a>"
      ]
    },
    {
      "cell_type": "markdown",
      "metadata": {
        "id": "W9Tojg3Ghysz"
      },
      "source": [
        "#### Lexicographic permutations\n",
        "#### Problem 24\n",
        "\n",
        "\n",
        "A permutation is an ordered arrangement of objects. For example, 3124 is one possible permutation of the digits 1, 2, 3 and 4. If all of the permutations are listed numerically or alphabetically, we call it lexicographic order. The lexicographic permutations of 0, 1 and 2 are:\n",
        "\n",
        "#### 012   021   102   120   201   210\n",
        "\n",
        "What is the millionth lexicographic permutation of the digits 0, 1, 2, 3, 4, 5, 6, 7, 8 and 9?\n",
        "\n",
        "\n",
        "---\n",
        "#### Persian translation:\n",
        "<div dir='rtl' align='right'>\n",
        "تمام حالات ممکن برای چیدمان  اعضای یک مجموعه را  جایگشت می نامیم. به عنوان مثال : عدد 3124 یک جایگشت ممکن ما بین مجموعه اعداد   1،2،3،4  است.اگر تمام جایگشت های یک مجموعه را براساس حروف الفبا و اعداد  را لیست کنیم  اصطلاحا این لیست دارای ترتیب واژگانی یا  lexicographic  است. به عنوان مثال تمام جایگشت های اعداد 0،1،2 با ترتیب lexicographic  بدین شرح است:\n",
        "012   021   102   120   201   210\n",
        "یک میلیون مین  جایگشت (با ترتیب واژگانی) برای مجموعه اعداد  0،1،2،3،4،5،6،7،8،9 را بیابید\n",
        "</div>\n"
      ]
    },
    {
      "cell_type": "code",
      "metadata": {
        "id": "kxMbuPOvf0l0"
      },
      "source": [
        "def factor(n):\n",
        "  if n==0 :return 0\n",
        "  if n == 1: return n\n",
        "  return factor(n-1)*n\n",
        "rank=1\n",
        "nlist=[i for i in range(0,10)]\n",
        "digits=[]\n",
        "n=len(nlist)\n",
        "remain=int(1e6)-1\n",
        "for i in range(n-1,0,-1):\n",
        "    rank=0\n",
        "    step=0\n",
        "    for d in nlist:\n",
        "        rank+=factor(i)\n",
        "        if rank >= remain:\n",
        "          remain-=factor(i)*(step)\n",
        "          nlist.remove(d)\n",
        "          digits.append(d)\n",
        "          break\n",
        "        step+=1\n",
        "print(int(''.join([str(x) for x in digits])))"
      ],
      "execution_count": null,
      "outputs": []
    },
    {
      "cell_type": "markdown",
      "metadata": {
        "id": "fAxo17OehxBl"
      },
      "source": [
        "|Execution time | Google Colaboratory\n",
        "|---|---|\n",
        "|Millisecond|0.5402565002441406|"
      ]
    }
  ]
}