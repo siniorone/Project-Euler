{
  "nbformat": 4,
  "nbformat_minor": 0,
  "metadata": {
    "colab": {
      "name": "23-Non-abundant sums.ipynb",
      "provenance": [],
      "collapsed_sections": [],
      "authorship_tag": "ABX9TyOKn/BsrfkMwGR7GM/GqhWk",
      "include_colab_link": true
    },
    "kernelspec": {
      "name": "python3",
      "display_name": "Python 3"
    },
    "language_info": {
      "name": "python"
    }
  },
  "cells": [
    {
      "cell_type": "markdown",
      "metadata": {
        "id": "view-in-github",
        "colab_type": "text"
      },
      "source": [
        "<a href=\"https://colab.research.google.com/github/siniorone/Project-Euler/blob/main/23-Non%20abundant%20sums.ipynb\" target=\"_parent\"><img src=\"https://colab.research.google.com/assets/colab-badge.svg\" alt=\"Open In Colab\"/></a>"
      ]
    },
    {
      "cell_type": "markdown",
      "metadata": {
        "id": "zafpe21JAGnX"
      },
      "source": [
        "### Non-abundant sums\n",
        "### Problem 23\n",
        "\n",
        "\n",
        "A perfect number is a number for which the sum of its proper divisors is exactly equal to the number. For example, the sum of the proper divisors of 28 would be 1 + 2 + 4 + 7 + 14 = 28, which means that 28 is a perfect number.\n",
        "\n",
        "A number n is called deficient if the sum of its proper divisors is less than n and it is called abundant if this sum exceeds n.\n",
        "\n",
        "As 12 is the smallest abundant number, 1 + 2 + 3 + 4 + 6 = 16, the smallest number that can be written as the sum of two abundant numbers is 24. By mathematical analysis, it can be shown that all integers greater than 28123 can be written as the sum of two abundant numbers. However, this upper limit cannot be reduced any further by analysis even though it is known that the greatest number that cannot be expressed as the sum of two abundant numbers is less than this limit.\n",
        "\n",
        "Find the sum of all the positive integers which cannot be written as the sum of two abundant numbers.\n",
        "\n",
        "\n",
        "---\n",
        "#### Persian translation:\n",
        "<div dir='rtl' align='right'>\n",
        "عدد  n عددی کامل (perfect number) نامیده میشود وقتی که مجموع  مقسوم علیه های آن بجز n برابر با  n باشد. به عنوان مثال ، مجموع همه مقسوم علیه های عدد 28 بجز خود 28 برابر است با 28\n",
        " 1 + 2 + 4 + 7 + 14 = 28 ، یعنی 28 یک عدد کامل است.\n",
        "\n",
        "عدد  n را عددی ناقص (deficient number) می نامیم اگر مجموع مقسوم علیه های آن بجز n  از n کمتر باشد  . \n",
        "عدد  n را عددی زائد (abundant number) می نامیم اگر مجموع مقسوم علیه های آن بجز n  از n بیشتر باشد  .\n",
        "\n",
        "از آنجا که 12 کوچکترین عدد زائد است ، 1 + 2 + 3 + 4 + 6 = 16 ، کوچکترین عددی که می توان به عنوان مجموع دو عدد زائد نوشت 24 است. با تحلیل ریاضی می توان نشان داد که تمام اعداد صحیح بزرگتر از 28123 را می توان به صورت جمع دو عدد زائد نوشت. با این حال ، این سقف را نمی توان با تجزیه و تحلیل ریاضی بیشتر از این کاهش داد ، بنابراین بزرگترین عددی که نمی توان آن را به صورت جمع دو عدد زائد نوشت ، کوچکتر از این سقف است.\n",
        "\n",
        "مجموع تمام اعداد صحیح مثبت که نتوان آنها را به صورت جمع دو عدد زائد نوشت را بیابید.\n",
        "</div>\n"
      ]
    },
    {
      "cell_type": "code",
      "metadata": {
        "id": "PwxRMJ4O5RdS"
      },
      "source": [
        "from sympy import divisors  #--> divisors(20) | [1, 2, 4, 7, 14, 28]  \n",
        "x=28123\n",
        "dn={}\n",
        "abundant=set()\n",
        "two_abundant=set()\n",
        "for n in range(1,x+1):\n",
        "    dn[n]= sum(divisors(n)) - n\n",
        "#find abundant number -----------------------------------------------\n",
        "    if n < dn[n] :\n",
        "       abundant.add(n)\n",
        "#find numbers that are sum of two abundant numbers-------------------\n",
        "for first in abundant:\n",
        "    for second in abundant:\n",
        "        if first+second < x+1:\n",
        "            two_abundant.add(first+second)\n",
        "# Find Numbers which cannot be written as the sum of two abundant numbers\n",
        "result=int((x*(x+1))/2) - sum(two_abundant)\n",
        "print(result)"
      ],
      "execution_count": null,
      "outputs": []
    },
    {
      "cell_type": "markdown",
      "metadata": {
        "id": "xGfDIviyA_2B"
      },
      "source": [
        "|Execution time | Google Colaboratory\n",
        "|---|---|\n",
        "|Second|! 14.39815616607666|"
      ]
    }
  ]
}
