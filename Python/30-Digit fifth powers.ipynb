{
  "nbformat": 4,
  "nbformat_minor": 0,
  "metadata": {
    "colab": {
      "name": "30-Digit fifth powers.ipynb",
      "provenance": [],
      "collapsed_sections": [],
      "authorship_tag": "ABX9TyOjaTTMxO+vtIPwAFBKdFHT",
      "include_colab_link": true
    },
    "kernelspec": {
      "name": "python3",
      "display_name": "Python 3"
    },
    "language_info": {
      "name": "python"
    }
  },
  "cells": [
    {
      "cell_type": "markdown",
      "metadata": {
        "id": "view-in-github",
        "colab_type": "text"
      },
      "source": [
        "<a href=\"https://colab.research.google.com/github/siniorone/Project-Euler/blob/main/Python/30-Digit%20fifth%20powers.ipynb\" target=\"_parent\"><img src=\"https://colab.research.google.com/assets/colab-badge.svg\" alt=\"Open In Colab\"/></a>"
      ]
    },
    {
      "cell_type": "markdown",
      "metadata": {
        "id": "saEkvNhYSjQL"
      },
      "source": [
        "### Digit fifth powers\n",
        "### Problem 30\n",
        "\n",
        "\n",
        "Surprisingly there are only three numbers that can be written as the sum of fourth powers of their digits:\n",
        "\n",
        "#####    1634 = 1^4 + 6^4 + 3^4 + 4^4\n",
        "#####    8208 = 8^4 + 2^4 + 0^4 + 8^4\n",
        "#####    9474 = 9^4 + 4^4 + 7^4 + 4^4\n",
        "\n",
        "As 1 = 1^4 is not a sum it is not included.\n",
        "\n",
        "The sum of these numbers is 1634 + 8208 + 9474 = 19316.\n",
        "\n",
        "Find the sum of all the numbers that can be written as the sum of fifth powers of their digits.\n",
        "\n",
        "\n",
        "---\n",
        "#### Persian translation :\n",
        "<div dir='rtl' align='right'>\n",
        "\n",
        "به شکل شگفت آوری فقط سه عدد وجود دارد که می توان آنها را به صورت جمع  توان چهار ارقام آن نوشت:\n",
        "\n",
        "</div>\n",
        "\n",
        "\n",
        "```\n",
        "1634 = 1^4 + 6^4 + 3^4 + 4^4\n",
        "8208 = 8^4 + 2^4 + 0^4 + 8^4\n",
        "9474 = 9^4 + 4^4 + 7^4 + 4^4\n",
        "```\n",
        "\n",
        "\n",
        "\n",
        "\n",
        "<div dir='rtl' align='right'>\n",
        "\n",
        "از آنجا که 4^1=1 حاصل جمع نیست  پس عدد ۱ را در نظر نمی گیریم.\n",
        "\n",
        "مجموع این اعداد 1634 + 8208 + 9474 = 19316 است.\n",
        "\n",
        "مجموع همه اعدادی را که می توان آن ها را  به صورت مجموع توان پنج ارقام آن نوشت را بیابید.\n",
        "</div>"
      ]
    },
    {
      "cell_type": "code",
      "metadata": {
        "id": "FtktjHt4h3eO"
      },
      "source": [
        "mysum = 0\n",
        "for n in range(2, 9**5 * 6):\n",
        "    n_string = str(n)\n",
        "    power = 0\n",
        "    for digit in n_string:\n",
        "        power += int(digit)**5\n",
        "    if power == n : \n",
        "       mysum += n\n",
        "print(f\"---->  {mysum} is the sum of all the\\nnumbers that  can be written as the\\nsum of fifth powers of their digits\")"
      ],
      "execution_count": null,
      "outputs": []
    },
    {
      "cell_type": "markdown",
      "metadata": {
        "id": "FYM22DbRO1yG"
      },
      "source": [
        "|Execution time | Google Colaboratory\n",
        "|---|---|\n",
        "|Second|1.3336200714111328|"
      ]
    }
  ]
}