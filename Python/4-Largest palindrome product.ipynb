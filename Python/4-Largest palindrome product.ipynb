{
  "nbformat": 4,
  "nbformat_minor": 5,
  "metadata": {
    "kernelspec": {
      "display_name": "Python 3",
      "language": "python",
      "name": "python3"
    },
    "language_info": {
      "codemirror_mode": {
        "name": "ipython",
        "version": 3
      },
      "file_extension": ".py",
      "mimetype": "text/x-python",
      "name": "python",
      "nbconvert_exporter": "python",
      "pygments_lexer": "ipython3",
      "version": "3.8.8"
    },
    "colab": {
      "name": "4-Largest palindrome product.ipynb",
      "provenance": []
    }
  },
  "cells": [
    {
      "cell_type": "markdown",
      "metadata": {
        "id": "6f91950c"
      },
      "source": [
        "### Largest palindrome product\n",
        "### Problem 4\n",
        "A palindromic number reads the same both ways. The largest palindrome made from the product of two 2-digit numbers is 9009 = 91 × 99 . \n",
        "Find the largest palindrome made from the product of two 3-digit numbers.\n",
        "\n",
        "\n",
        "---\n",
        "\n",
        "\n",
        "#### Persian translation:\n",
        "<div dir='rtl' align='right'>\n",
        " عددی را متقارن می گوییم که از هر دو جهت یکسان خوانده شود. بزرگترین عدد متقارن حاصل ضرب دو عدد دو رقمی برابر است با 9009 = 91 × 99\n",
        " بزرگترین عدد متقارن حاصل ضرب دو عدد سه رقمی را بیابید\n",
        "</div>"
      ],
      "id": "6f91950c"
    },
    {
      "cell_type": "code",
      "metadata": {
        "id": "8442e1b2"
      },
      "source": [
        "x=3\n",
        "p=(i*j for i in range(10**(x-1) , 10**x) for j in range(10**(x-1) , 10**x)  if str(i * j) == str(i * j)[::-1] )\n",
        "print(max(p))"
      ],
      "id": "8442e1b2",
      "execution_count": null,
      "outputs": []
    },
    {
      "cell_type": "markdown",
      "metadata": {
        "id": "VIsp6-h--7Yb"
      },
      "source": [
        "|Execution time | Google Colaboratory\n",
        "|---|---|\n",
        "|Second|0.41631579399108887|"
      ],
      "id": "VIsp6-h--7Yb"
    }
  ]
}
