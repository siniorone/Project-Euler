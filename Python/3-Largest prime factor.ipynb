{
  "nbformat": 4,
  "nbformat_minor": 5,
  "metadata": {
    "kernelspec": {
      "display_name": "Python 3",
      "language": "python",
      "name": "python3"
    },
    "language_info": {
      "codemirror_mode": {
        "name": "ipython",
        "version": 3
      },
      "file_extension": ".py",
      "mimetype": "text/x-python",
      "name": "python",
      "nbconvert_exporter": "python",
      "pygments_lexer": "ipython3",
      "version": "3.8.8"
    },
    "colab": {
      "name": "3-Largest prime factor.ipynb",
      "provenance": []
    }
  },
  "cells": [
    {
      "cell_type": "markdown",
      "metadata": {
        "id": "a44695b7"
      },
      "source": [
        "### Largest prime factor\n",
        "### Problem 3\n",
        "\n",
        "The prime factors of 13195 are 5, 7, 13 and 29.\n",
        " What is the largest prime factor of the number 600851475143 ?\n",
        "\n",
        "\n",
        "---\n",
        "\n",
        "\n",
        "#### Persian translation:\n",
        "<div dir='rtl' align='right'>\n",
        " عوامل اول تجزیه عدد ۱۳۱۹۵ برابر است با ۵، ۷ ، ۱۳ و ۲۹\n",
        " بزرگترین عامل اول برای عدد ۶۰۰۸۵۱۴۷۵۱۴۳ کدام است؟\n",
        " </div>"
      ],
      "id": "a44695b7"
    },
    {
      "cell_type": "code",
      "metadata": {
        "id": "a07ffc8f"
      },
      "source": [
        "def largest_prime(x):\n",
        "    p = 2\n",
        "    while p < x**0.5 :\n",
        "        if x % p: p +=1 \n",
        "        else : x /= p\n",
        "    return int(x)\n",
        "print(largest_prime(600851475143))    "
      ],
      "id": "a07ffc8f",
      "execution_count": null,
      "outputs": []
    },
    {
      "cell_type": "markdown",
      "metadata": {
        "id": "nauS5ack9odh"
      },
      "source": [
        "|Execution time | Google Colaboratory\n",
        "|---|---|\n",
        "|Millisecond|1.3127326965332031|"
      ],
      "id": "nauS5ack9odh"
    }
  ]
}
