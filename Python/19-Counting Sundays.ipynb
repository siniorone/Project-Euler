{
  "nbformat": 4,
  "nbformat_minor": 0,
  "metadata": {
    "colab": {
      "name": "19-Counting Sundays.ipynb",
      "provenance": [],
      "collapsed_sections": []
    },
    "kernelspec": {
      "name": "python3",
      "display_name": "Python 3"
    },
    "language_info": {
      "name": "python"
    }
  },
  "cells": [
    {
      "cell_type": "markdown",
      "metadata": {
        "id": "-LDZMliMWCiP"
      },
      "source": [
        "\n",
        "### Counting Sundays\n",
        "### Problem 19\n",
        "You are given the following information, but you may prefer to do some research for yourself.\n",
        "\n",
        "1 Jan 1900 was a Monday.\n",
        "Thirty days has September,\n",
        "April, June and November.\n",
        "All the rest have thirty-one,\n",
        "Saving February alone,\n",
        "Which has twenty-eight, rain or shine.\n",
        "And on leap years, twenty-nine.\n",
        "A leap year occurs on any year evenly divisible by 4, but not on a century unless it is divisible by 400.\n",
        "How many Sundays fell on the first of the month during the twentieth century (1 Jan 1901 to 31 Dec 2000)?\n",
        "\n",
        "---\n",
        "#### persian translation:\n",
        "\n",
        "\n",
        "```\n",
        "اطلاعات زیر به شما داده شده است \n",
        "(البته اگر دوست دارید خودتان هم می توانید در این باره تحقیق کنید)\n",
        "اول ژانویه ۱۹۰۰ دوشنبه بود.\n",
        "ماه های سپتامبر،آوریل ، ژوئن و نوابر ۳۰ روز دارند.\n",
        "مابقی ماه ها ۳۱ روز دارند بجز فوریه که کم و بیش ۲۸ روز دارد. اما در سال های کبیسه ۲۹ روز دارد.\n",
        "سالهای کبیسه به سالهای گفته می شود که بر ۴ بخش پذیر است اما در سده ها(سالهایی که بر ۱۰۰ بخشپذیر است) رخ نمی دهد مگر اینکه آن سال بر ۴۰۰ بخشپذیر باشد. \n",
        "\n",
        "چند روز یکشنبه درست در ابتدای ماه در طول قرن بیستم (1 ژانویه 1901 تا 31 دسامبر 2000) واقع شده بود؟```\n",
        "\n",
        "\n"
      ]
    },
    {
      "cell_type": "code",
      "metadata": {
        "colab": {
          "base_uri": "https://localhost:8080/"
        },
        "id": "oZem29eTIZaX",
        "outputId": "f68469ff-b18c-44ae-c3ed-68a76ee71257"
      },
      "source": [
        "# Dictionary to store days in month--------------------------\n",
        "months = {\n",
        "    \"January\": 31,\n",
        "    \"February\": 28,\n",
        "    \"March\": 31,\n",
        "    \"April\": 30,\n",
        "    \"May\": 31,\n",
        "    \"June\": 30,\n",
        "    \"July\": 31,\n",
        "    \"August\": 31,\n",
        "    \"September\": 30,\n",
        "    \"October\": 31,\n",
        "    \"November\": 30,\n",
        "    \"December\": 31,\n",
        "}\n",
        "\n",
        "# Function to detect leap years-------------------------------\n",
        "def leap_year(y):\n",
        "    if year % 400 == 0:\n",
        "        return True\n",
        "    elif year % 100 == 0:\n",
        "        return False\n",
        "    elif year % 4 == 0:\n",
        "        return True\n",
        "    return False\n",
        "\n",
        "sunday_counter = 0  # Store sundays count---------------------\n",
        "days = 0  # Store days pass from 0 day to the end day---------\n",
        "\n",
        "for year in range(1900, 2001):  # Year for-loop---------------\n",
        "\n",
        "    if leap_year(year):\n",
        "        months[\"February\"] = 29\n",
        "    else:\n",
        "        months[\"February\"] = 28\n",
        "\n",
        "    for month in months.values():\n",
        "        # Month in year for-loop-------------------------------\n",
        "        first_of_the_month = True\n",
        "        for day in range(month):\n",
        "            # Days in each Month for-loop----------------------\n",
        "            days += 1\n",
        "            # check if the sunday is the first day of the month\n",
        "            if year > 1900 and days % 7 == 0 and first_of_the_month:\n",
        "                sunday_counter += 1\n",
        "            first_of_the_month = False\n",
        "\n",
        "print(sunday_counter)\n"
      ],
      "execution_count": null,
      "outputs": [
        {
          "output_type": "stream",
          "text": [
            "171\n"
          ],
          "name": "stdout"
        }
      ]
    }
  ]
}
