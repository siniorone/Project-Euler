{
  "nbformat": 4,
  "nbformat_minor": 5,
  "metadata": {
    "kernelspec": {
      "display_name": "Python 3",
      "language": "python",
      "name": "python3"
    },
    "language_info": {
      "codemirror_mode": {
        "name": "ipython",
        "version": 3
      },
      "file_extension": ".py",
      "mimetype": "text/x-python",
      "name": "python",
      "nbconvert_exporter": "python",
      "pygments_lexer": "ipython3",
      "version": "3.8.8"
    },
    "colab": {
      "name": "1-Multiples of 3 and 5.ipynb",
      "provenance": []
    }
  },
  "cells": [
    {
      "cell_type": "markdown",
      "metadata": {
        "id": "ccafb5ba"
      },
      "source": [
        "### Multiples of 3 and 5\n",
        "### Problem 1\n",
        "If we list all the natural numbers below 10 that are multiples of 3 or 5, we get 3, 5, 6 and 9. The sum of these multiples is 23. Find the sum of all the multiples of 3 or 5 below 1000.\n",
        "\n",
        "\n",
        "---\n",
        "\n",
        "\n",
        "#### Persian translation:\n",
        "<div dir='rtl' align='right'>\n",
        " اگر لیست اعداد طبیعی کمتر از ده که مضرب 3 یا 5 هستند 3،5،6،9 باشد و جمع این اعداد 23 باشد. جمع همه اعداد مضرب 3 یا 5 زیر 1000 را بیابید.\n",
        " </div>\n"
      ],
      "id": "ccafb5ba"
    },
    {
      "cell_type": "code",
      "metadata": {
        "id": "7f3b0ac4"
      },
      "source": [
        "sum(set(range(0, 1000, 3)) | set(range(0, 1000, 5)))"
      ],
      "id": "7f3b0ac4",
      "execution_count": null,
      "outputs": []
    },
    {
      "cell_type": "markdown",
      "metadata": {
        "id": "8tyOZv3O4DNz"
      },
      "source": [
        "|Execution time | Google Colaboratory\n",
        "|---|---|\n",
        "|Millisecond|0.17786026000976562|"
      ],
      "id": "8tyOZv3O4DNz"
    }
  ]
}
