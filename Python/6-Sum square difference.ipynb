{
 "cells": [
  {
   "cell_type": "markdown",
   "id": "f82b8b11",
   "metadata": {},
   "source": [
    "### Sum square difference\n",
    "### Problem 6\n",
    "#### The sum of the squares of the first ten natural numbers is,  1^2  + 2^2 + 3^2 + ... + 10^2=385 .The square of the sum of the first ten natural numbers is, (1+2+3+ ... +10)^2=3025 .Hence the difference between the sum of the squares of the first ten natural numbers and the square of the sum is  3025 - 385 =2640 . Find the difference between the sum of the squares of the first one hundred natural numbers and the square of the sum.\n",
    "\n",
    "#### persian translation :\n",
    "#### حاصل جمع مجذور اعداد طبیعی ۱تا۱۰ برابر است با ۳۸۵\n",
    "#### مجذور حاصلجمع  اعداد طبیعی ۱تا۱۰  برابر است با ۳۰۲۵\n",
    "#### در نتیجه اختلاف بین مجذور حاصلجمع اعداد طبیعی ۱تا۱۰ با حاصلجمع مجذور اعداد طبیعی ۱تا۱۰ برابر است با ۲۶۴۰\n",
    "#### حال اختلاف بین مجذور حاصل جمع اعداد طبیعی ۱تا۱۰۰ با حاصل جمع مجذور اعداد طبیعی ۱تا۱۰۰ را بیابید."
   ]
  },
  {
   "cell_type": "code",
   "execution_count": 3,
   "id": "560f9436",
   "metadata": {},
   "outputs": [
    {
     "name": "stdout",
     "output_type": "stream",
     "text": [
      "25164150\n"
     ]
    }
   ],
   "source": [
    "n = 100\n",
    "print(int((n*(n+1)/2)**2-(n*(n+1)*(2*n+1)/6)))"
   ]
  }
 ],
 "metadata": {
  "kernelspec": {
   "display_name": "Python 3",
   "language": "python",
   "name": "python3"
  },
  "language_info": {
   "codemirror_mode": {
    "name": "ipython",
    "version": 3
   },
   "file_extension": ".py",
   "mimetype": "text/x-python",
   "name": "python",
   "nbconvert_exporter": "python",
   "pygments_lexer": "ipython3",
   "version": "3.8.8"
  }
 },
 "nbformat": 4,
 "nbformat_minor": 5
}
