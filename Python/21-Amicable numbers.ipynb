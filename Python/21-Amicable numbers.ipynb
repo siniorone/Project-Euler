{
  "nbformat": 4,
  "nbformat_minor": 0,
  "metadata": {
    "colab": {
      "name": "21-Amicable numbers.ipynb",
      "provenance": [],
      "collapsed_sections": [],
      "authorship_tag": "ABX9TyPM4CzT9dIxCgpByKtzTkCc",
      "include_colab_link": true
    },
    "kernelspec": {
      "name": "python3",
      "display_name": "Python 3"
    },
    "language_info": {
      "name": "python"
    }
  },
  "cells": [
    {
      "cell_type": "markdown",
      "metadata": {
        "id": "view-in-github",
        "colab_type": "text"
      },
      "source": [
        "<a href=\"https://colab.research.google.com/github/siniorone/Project-Euler/blob/main/21-Amicable%20numbers.ipynb\" target=\"_parent\"><img src=\"https://colab.research.google.com/assets/colab-badge.svg\" alt=\"Open In Colab\"/></a>"
      ]
    },
    {
      "cell_type": "markdown",
      "metadata": {
        "id": "M2CE05UfADA8"
      },
      "source": [
        "### Amicable numbers\n",
        "### Problem 21\n",
        "\n",
        "\n",
        "Let d(n) be defined as the sum of proper divisors of n (numbers less than n which divide evenly into n).\n",
        "If d(a) = b and d(b) = a, where a ≠ b, then a and b are an amicable pair and each of a and b are called amicable numbers.\n",
        "\n",
        "For example, the proper divisors of 220 are 1, 2, 4, 5, 10, 11, 20, 22, 44, 55 and 110; therefore d(220) = 284. The proper divisors of 284 are 1, 2, 4, 71 and 142; so d(284) = 220.\n",
        "\n",
        "Evaluate the sum of all the amicable numbers under 10000.\n",
        "\n",
        "\n",
        "---\n",
        "#### Persian translation:\n",
        "<div dir='rtl' align='right'>\n",
        "اجازه دهید\n",
        "    d(n) \n",
        " را به صورت جمع همه ی مقسوم علیه های n بجز n تعریف کنیم.\n",
        "اگر d(a)=b و d(b)=a باشد در صورتی که a ≠ b  آنگاه a و ‌b  را یک جفت از اعداد موافق می نامیم و هر کدام از اعداد a و b  یک عدد موافق (amicable numbers) است.\n",
        "به عنوان مثال :\n",
        " مقسوم علیه های 220 بجز خودش برابر است با:\n",
        "1, 2, 4, 5, 10, 11, 20, 22, 44, 55 و 110\n",
        "بنابراین d(220)=280\n",
        "و مقسوم علیه های عدد 280 بجز خودش برابر است با:\n",
        "1, 2, 4, 71 و 142\n",
        "بنابراین  d(280)=220\n",
        "جمع تمام اعداد موافق کوچکتر از 10000 را بیابید.\n",
        "</div>"
      ]
    },
    {
      "cell_type": "code",
      "metadata": {
        "id": "0pRDn7sjXLd9"
      },
      "source": [
        "from sympy import divisors  # --> divisors(28) | [1, 2, 4, 7, 14, 28]\n",
        "dn = {}\n",
        "amicable = set()\n",
        "abundant = set()\n",
        "deficient = set()\n",
        "for n in range(1, int(1e4)):\n",
        "    if n not in dn:\n",
        "        dn[n] = sum(divisors(n)) - n\n",
        "    if dn[n] not in dn:\n",
        "        dn[dn[n]] = sum(divisors(dn[n])) - dn[n]\n",
        "    if n > int(1e4) or dn[n] > int(1e4):\n",
        "        continue\n",
        "\n",
        "# print result ------------------------------------------------------\n",
        "    if n == dn[dn[n]]:\n",
        "        if n != dn[n]:\n",
        "            amicable.add(n)\n",
        "print(f\"{sum(amicable)}\")"
      ],
      "execution_count": null,
      "outputs": []
    },
    {
      "cell_type": "markdown",
      "metadata": {
        "id": "LLHcw0lmBuqR"
      },
      "source": [
        "|Execution time | Google Colaboratory\n",
        "|---|---|\n",
        "|Second|0.18563079833984375|"
      ]
    }
  ]
}
