{
  "nbformat": 4,
  "nbformat_minor": 0,
  "metadata": {
    "colab": {
      "name": "16-Power digit sum.ipynb",
      "provenance": []
    },
    "kernelspec": {
      "name": "python3",
      "display_name": "Python 3"
    },
    "language_info": {
      "name": "python"
    }
  },
  "cells": [
    {
      "cell_type": "markdown",
      "metadata": {
        "id": "FZjowG6adIal"
      },
      "source": [
        "### Power digit sum\n",
        "### Problem 16\n",
        "215 = 32768 and the sum of its digits is 3 + 2 + 7 + 6 + 8 = 26.\n",
        "\n",
        "What is the sum of the digits of the number 21000?\n",
        "\n",
        "\n",
        "---\n",
        "\n",
        "#### persian translation:\n",
        "۲ به توان ۱۵ برابر است با 32768 و مجموع ارقام آن\n",
        "برابر است با 3 + 2 + 7 + 6 + 8 = 26\n",
        "مجموع ارقام ۲ به توان ۱۰۰۰ را بیابید"
      ]
    },
    {
      "cell_type": "code",
      "metadata": {
        "colab": {
          "base_uri": "https://localhost:8080/"
        },
        "id": "InhfKimRLcYM",
        "outputId": "c10cd9ca-4ca2-4e4a-9d69-90de3600c26f"
      },
      "source": [
        "x = [int(i) for i in str(2**1000)]\n",
        "print(sum(x))"
      ],
      "execution_count": null,
      "outputs": [
        {
          "output_type": "stream",
          "text": [
            "1366\n"
          ],
          "name": "stdout"
        }
      ]
    }
  ]
}
