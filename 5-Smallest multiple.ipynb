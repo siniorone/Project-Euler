{
 "cells": [
  {
   "cell_type": "markdown",
   "id": "501b0732",
   "metadata": {},
   "source": [
    "### Smallest multiple\n",
    "### Problem 5\n",
    "#### 2520 is the smallest number that can be divided by each of the numbers from 1 to 10 without any remainder. What is the smallest positive number that is evenly divisible by all of the numbers from 1 to 20?\n",
    "#### pesian translation:\n",
    "#### عدد 2520 کوچکترین عددی است که بر تمام اعداد 1 تا 10 بخش پذیر است . کوچکترین عدد مثبتی را که بر تمام اعداد 1 تا 20 بخش پذیر است را بیابید."
   ]
  },
  {
   "cell_type": "code",
   "execution_count": 2,
   "id": "371acd95",
   "metadata": {},
   "outputs": [
    {
     "name": "stdout",
     "output_type": "stream",
     "text": [
      "232792560\n"
     ]
    }
   ],
   "source": [
    "n = 20\n",
    "smallest_multiple = 1\n",
    "my_primes = {}\n",
    "for x in range(n, 1, -1):\n",
    "    i = 2\n",
    "    local_factorization = {}\n",
    "    while i <= x:\n",
    "        if x % i == 0:\n",
    "            x /= i\n",
    "            if i in local_factorization:\n",
    "                local_factorization[i] += 1\n",
    "            else:\n",
    "                local_factorization[i] = 1\n",
    "        else:\n",
    "            i += 1\n",
    "    for k, v in local_factorization.items():\n",
    "        if k not in my_primes:\n",
    "            my_primes[k] = v\n",
    "        elif k in my_primes and v > my_primes[k]:\n",
    "            my_primes[k] = v\n",
    "for k, v in my_primes.items():\n",
    "    smallest_multiple *= k**v\n",
    "print(smallest_multiple)"
   ]
  }
 ],
 "metadata": {
  "kernelspec": {
   "display_name": "Python 3",
   "language": "python",
   "name": "python3"
  },
  "language_info": {
   "codemirror_mode": {
    "name": "ipython",
    "version": 3
   },
   "file_extension": ".py",
   "mimetype": "text/x-python",
   "name": "python",
   "nbconvert_exporter": "python",
   "pygments_lexer": "ipython3",
   "version": "3.8.8"
  }
 },
 "nbformat": 4,
 "nbformat_minor": 5
}
