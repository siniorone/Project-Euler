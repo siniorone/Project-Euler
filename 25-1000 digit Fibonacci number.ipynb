{
  "nbformat": 4,
  "nbformat_minor": 0,
  "metadata": {
    "colab": {
      "name": "25-1000-digit Fibonacci number.ipynb",
      "provenance": [],
      "authorship_tag": "ABX9TyPAL6icETXALxW5tfdBsIKK",
      "include_colab_link": true
    },
    "kernelspec": {
      "name": "python3",
      "display_name": "Python 3"
    },
    "language_info": {
      "name": "python"
    }
  },
  "cells": [
    {
      "cell_type": "markdown",
      "metadata": {
        "id": "view-in-github",
        "colab_type": "text"
      },
      "source": [
        "<a href=\"https://colab.research.google.com/github/siniorone/Project-Euler/blob/main/25-1000%20digit%20Fibonacci%20number.ipynb\" target=\"_parent\"><img src=\"https://colab.research.google.com/assets/colab-badge.svg\" alt=\"Open In Colab\"/></a>"
      ]
    },
    {
      "cell_type": "markdown",
      "metadata": {
        "id": "_Nw5Jdo6lPTd"
      },
      "source": [
        "\n",
        "### 1000-digit Fibonacci number\n",
        "### Problem 25\n",
        "\n",
        "\n",
        "The Fibonacci sequence is defined by the recurrence relation:\n",
        "\n",
        "    F(n) = F(n−1) + F(n−2), where F(1) = 1 and F(2) = 1.\n",
        "\n",
        "Hence the first 12 terms will be:\n",
        "\n",
        "    F(1) = 1\n",
        "    F(2) = 1\n",
        "    F(3) = 2\n",
        "    F(4) = 3\n",
        "    F(5) = 5\n",
        "    F(6) = 8\n",
        "    F(7) = 13\n",
        "    F(8) = 21\n",
        "    F(9) = 34\n",
        "    F(10) = 55\n",
        "    F(11) = 89\n",
        "    F(12) = 144\n",
        "\n",
        "The 12th term, F12, is the first term to contain three digits.\n",
        "\n",
        "What is the index of the first term in the Fibonacci sequence to contain 1000 digits?\n",
        "\n",
        "---\n",
        "#### Persian translation:\n",
        "<div dir='rtl' align='right'>\n",
        "دنباله فیبوناچی بدین صورت تعریف می شود:\n",
        "<p> f(1)=1 </p>\n",
        "<p>f(2)=1 </p>\n",
        "<p>f(n)=f(n-1) + f(n-2)</p>\n",
        "در نتیجه 12 جمله اول دنباله فیبوناچی بدین شرح است:\n",
        "<p>F(1) = 1 </p>\n",
        "<p>F(2) = 1 </p>\n",
        "<p>F(3) = 2 </p>\n",
        "<p>F(4) = 3 </p>\n",
        "<p>F(5) = 5 </p>\n",
        "<p>F(6) = 8 </p>\n",
        "<p>F(7) = 13 </p>\n",
        "<p>F(8) = 21 </p>\n",
        "<p>F(9) = 34 </p>\n",
        "<p>F(10) = 55 </p>\n",
        "<p>F(11) = 89 </p>\n",
        "<p>F(12) = 144 </p>\n",
        "همانطور که می بینید 12 امین جمله این دنباله یک عدد 3 رقمی است.\n",
        "اولین عدد 1000 رقمی در این دنباله  در چندمین جمله ظاهر می شود؟\n",
        "</div>"
      ]
    },
    {
      "cell_type": "code",
      "metadata": {
        "id": "hRxGNVEOSdk6"
      },
      "source": [
        "fib=1\n",
        "last_fib=1\n",
        "n=3\n",
        "while True:\n",
        "  \n",
        "  mid=fib\n",
        "  fib=fib+last_fib\n",
        "  last_fib=mid\n",
        "  if len(str(fib))>=1e3:\n",
        "    print(n)\n",
        "    break\n",
        "  n+=1"
      ],
      "execution_count": null,
      "outputs": []
    },
    {
      "cell_type": "markdown",
      "metadata": {
        "id": "MzteaApcl7wN"
      },
      "source": [
        "|Execution time | Google Colaboratory\n",
        "|---|---|\n",
        "|Second|0.03946256637573242|"
      ]
    }
  ]
}