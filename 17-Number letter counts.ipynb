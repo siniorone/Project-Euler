{
  "nbformat": 4,
  "nbformat_minor": 0,
  "metadata": {
    "colab": {
      "name": "17-Number letter counts.ipynb",
      "provenance": [],
      "collapsed_sections": []
    },
    "kernelspec": {
      "name": "python3",
      "display_name": "Python 3"
    },
    "language_info": {
      "name": "python"
    }
  },
  "cells": [
    {
      "cell_type": "markdown",
      "metadata": {
        "id": "BbfjwDSJESpj"
      },
      "source": [
        "### Number letter counts\n",
        "### Problem 17\n",
        "If the numbers 1 to 5 are written out in words: one, two, three, four, five, then there are 3 + 3 + 5 + 4 + 4 = 19 letters used in total.\n",
        "\n",
        "If all the numbers from 1 to 1000 (one thousand) inclusive were written out in words, how many letters would be used?\n",
        "\n",
        "\n",
        "**NOTE:** Do not count spaces or hyphens. For example, 342 (three hundred and forty-two) contains 23 letters and 115 (one hundred and fifteen) contains 20 letters. The use of \"and\" when writing out numbers is in compliance with British usage.\n",
        "\n",
        "\n",
        "---\n",
        "#### persian translation:\n",
        "\n",
        "\n",
        "```\n",
        "اگر اعداد ۱ تا ۵ را به حروف بنویسیم :\n",
        "one, two, three, four, five\n",
        "برای نوشتن این اعداد مجموعا ۱۹ حرف\n",
        "3 + 3 + 5 + 4 + 4 = 19\n",
        "استفاده شده است.\n",
        "اگر تمام اعداد ۱ تا ۱۰۰۰ را بنویسیم مجموعا چند حرف استفاده شده است؟\n",
        "تذکر: اسپیس ها و هایفن ها را نشمارید. به عنوان مثال :\n",
        "عدد ۳۴۲\n",
        " (three hundred and forty-two)\n",
        "۲۳ حرف دارد\n",
        " یا عدد ۱۱۵\n",
        "(one hundred and fifteen)\n",
        "شامل ۲۰ کاراکتر می شود.\n",
        "بکار بردن \"and\" در هنگام نوشتن اعداد  منطبق با  کاربرد الگوی بریتیش اعداد است.\n",
        "```\n",
        "\n",
        "\n",
        "\n"
      ]
    },
    {
      "cell_type": "code",
      "metadata": {
        "colab": {
          "base_uri": "https://localhost:8080/"
        },
        "id": "LWXHwtBH3sKI",
        "outputId": "dc03a302-a192-4b55-ed29-745c73534814"
      },
      "source": [
        "digits = {\n",
        "    1: \"one\",\n",
        "    2: \"two\",\n",
        "    3: \"three\",\n",
        "    4: \"four\",\n",
        "    5: \"five\",\n",
        "    6: \"six\",\n",
        "    7: \"seven\",\n",
        "    8: \"eight\",\n",
        "    9: \"nine\",\n",
        "    10: \"ten\",\n",
        "    11: \"eleven\",\n",
        "    12: \"twelve\",\n",
        "    13: \"thirteen\",\n",
        "    14: \"fourteen\",\n",
        "    15: \"fifteen\",\n",
        "    16: \"sixteen\",\n",
        "    17: \"seventeen\",\n",
        "    18: \"eighteen\",\n",
        "    19: \"nineteen\",\n",
        "    20: \"twenty\",\n",
        "    30: \"thirty\",\n",
        "    40: \"forty\",\n",
        "    50: \"fifty\",\n",
        "    60: \"sixty\",\n",
        "    70: \"seventy\",\n",
        "    80: \"eighty\",\n",
        "    90: \"ninety\",\n",
        "}\n",
        "\n",
        "for n in range(1, 1001):\n",
        "    if n not in digits:\n",
        "        nstring = str(n)\n",
        "        nl = len(nstring)\n",
        "        mystring = \"\"\n",
        "        if nl == 4:\n",
        "            myint = int(nstring[0])\n",
        "            if myint:\n",
        "                mystring += digits[myint] + \" \" + \"thousand \"\n",
        "            nstring = nstring[1:]\n",
        "            nl -= 1\n",
        "        if nl == 3:\n",
        "            myint = int(nstring[0])\n",
        "            if myint:\n",
        "                mystring += digits[myint] + \" \" + \"hundred\"\n",
        "                if int(nstring[1:]) != 0:\n",
        "                    mystring += \" and \"\n",
        "            nstring = nstring[1:]\n",
        "            nl -= 1\n",
        "        if nl == 2:\n",
        "            myint = int(nstring[0])\n",
        "            if myint:\n",
        "                if myint > 1:\n",
        "                    mystring += digits[10*myint]\n",
        "                    if int(nstring[1:]) != 0:\n",
        "                        mystring += \"-\"\n",
        "                else:\n",
        "                    mystring += digits[int(nstring)]\n",
        "                    nl -= 1\n",
        "            nstring = nstring[1:]\n",
        "            nl -= 1\n",
        "        if nl == 1:\n",
        "            myint = int(nstring[0])\n",
        "            if myint:\n",
        "                mystring += digits[myint]\n",
        "                nstring = nstring[1:]\n",
        "            nl -= 1\n",
        "\n",
        "        digits[n] = mystring\n",
        "\n",
        "count = 0\n",
        "for value in digits.values():\n",
        "    #print(value)\n",
        "    for v in value:\n",
        "        if v != \" \" and v != \"-\":\n",
        "            count += 1\n",
        "print(count)\n"
      ],
      "execution_count": 1,
      "outputs": [
        {
          "output_type": "stream",
          "text": [
            "21124\n"
          ],
          "name": "stdout"
        }
      ]
    }
  ]
}
