{
 "cells": [
  {
   "cell_type": "markdown",
   "id": "6f91950c",
   "metadata": {},
   "source": [
    "### Largest palindrome product\n",
    "### Problem 4\n",
    "#### A palindromic number reads the same both ways. The largest palindrome made from the product of two 2-digit numbers is 9009 = 91 × 99.\n",
    "#### Find the largest palindrome made from the product of two 3-digit numbers.\n",
    "\n",
    "#### persian translation:\n",
    "#### عددی را متقارن می گوییم که از هر دو جهت یکسان خوانده شود. بزرگترین عدد متقارن حاصل ضرب دو عدد دو رقمی برابر است با 9009 = 91 × 99\n",
    "#### بزرگترین عدد متقارن حاصل ضرب دو عدد سه رقمی را بیابید\n"
   ]
  },
  {
   "cell_type": "code",
   "execution_count": 2,
   "id": "8442e1b2",
   "metadata": {},
   "outputs": [
    {
     "name": "stdout",
     "output_type": "stream",
     "text": [
      "906609\n"
     ]
    }
   ],
   "source": [
    "x=3\n",
    "p=(i*j for i in range(10**(x-1) , 10**x) for j in range(10**(x-1) , 10**x)  if str(i * j) == str(i * j)[::-1] )\n",
    "print(max(p))"
   ]
  }
 ],
 "metadata": {
  "kernelspec": {
   "display_name": "Python 3",
   "language": "python",
   "name": "python3"
  },
  "language_info": {
   "codemirror_mode": {
    "name": "ipython",
    "version": 3
   },
   "file_extension": ".py",
   "mimetype": "text/x-python",
   "name": "python",
   "nbconvert_exporter": "python",
   "pygments_lexer": "ipython3",
   "version": "3.8.8"
  }
 },
 "nbformat": 4,
 "nbformat_minor": 5
}
