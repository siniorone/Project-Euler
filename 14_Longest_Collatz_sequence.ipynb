{
  "nbformat": 4,
  "nbformat_minor": 0,
  "metadata": {
    "colab": {
      "name": "14-Longest Collatz sequence.ipynb",
      "provenance": [],
      "collapsed_sections": []
    },
    "kernelspec": {
      "name": "python3",
      "display_name": "Python 3"
    },
    "language_info": {
      "name": "python"
    }
  },
  "cells": [
    {
      "cell_type": "markdown",
      "metadata": {
        "id": "6Xzytq2XjqIB"
      },
      "source": [
        "### Longest Collatz sequence\n",
        "### Problem 14\n",
        "The following iterative sequence is defined for the set of positive integers:\n",
        "\n",
        "##### n → n/2 (n is even)\n",
        "##### n → 3n + 1 (n is odd)\n",
        "\n",
        "Using the rule above and starting with 13, we generate the following sequence:\n",
        "\n",
        "##### 13 → 40 → 20 → 10 → 5 → 16 → 8 → 4 → 2 → 1\n",
        "It can be seen that this sequence (starting at 13 and finishing at 1) contains 10 terms. Although it has not been proved yet (Collatz Problem), it is thought that all starting numbers finish at 1.\n",
        "\n",
        "Which starting number, under one million, produces the longest chain?\n",
        "\n",
        "**NOTE:** Once the chain starts the terms are allowed to go above one million.\n",
        "\n",
        "\n",
        "\n",
        "---\n",
        "#### persian translation:\n",
        "\n",
        "\n",
        "```\n",
        "دنباله  زیر برای مجموعه اعداد صحیح مثبت  بدین صورت تعریف شده است:\n",
        "اگر n فرد باشد:   n —> 3n+1\n",
        "اگر n زوج باشد:  n—> n/2\n",
        "با استفاده از قواعد بالا چنانچه از عدد ۱۳ شروع کنیم دنباله زیر به دست می آید:\n",
        "13 → 40 → 20 → 10 → 5 → 16 → 8 → 4 → 2 → 1\n",
        "مشاهده می کنیم که این دنباله (شروع از 13 و پایان 1) شامل 10 جمله است.\n",
        "اگرچه هنوز اثبات نشده است (حدس کولاتز) ،اما تصور می شود که شروع با هر عددی به 1 ختم می شود.\n",
        "کدام عدد زیر یک میلیون به عنوان جمله آغازین می تواند طولانی ترین رشته را تولید کند؟\n",
        "نکته: هنگامی که دنباله آغاز می شود سایر جملات می توانند بالای ۱ میلیون هم باشند.\n",
        "```\n",
        "\n",
        "\n"
      ]
    },
    {
      "cell_type": "code",
      "metadata": {
        "colab": {
          "base_uri": "https://localhost:8080/"
        },
        "id": "guU8gVTfxTzR",
        "outputId": "fda18265-097e-4b63-a926-d9f0e5d3acce"
      },
      "source": [
        "def collatz_sequence(n):\n",
        "    if n % 2:\n",
        "        return int(n * 3 + 1)\n",
        "    else:\n",
        "        return int(n / 2)\n",
        "\n",
        "longest_chain = 0\n",
        "biggest_number = 0\n",
        "collatz_chain_counter = {}\n",
        "for i in range(1, int(1e6)):\n",
        "    max_local = 1\n",
        "    mid = i\n",
        "    while True:\n",
        "        mid = collatz_sequence(mid)\n",
        "        max_local += 1\n",
        "        if mid in collatz_chain_counter:\n",
        "            max_local += collatz_chain_counter[mid]\n",
        "            mid = 1\n",
        "        if mid == 1:\n",
        "            collatz_chain_counter[i] = max_local\n",
        "            if max_local > longest_chain:\n",
        "                longest_chain = max_local\n",
        "                biggest_number = i\n",
        "            break\n",
        "print(longest_chain, biggest_number)\n"
      ],
      "execution_count": 6,
      "outputs": [
        {
          "output_type": "stream",
          "text": [
            "560 837799\n"
          ],
          "name": "stdout"
        }
      ]
    },
    {
      "cell_type": "code",
      "metadata": {
        "id": "2K89vFwNzWVf"
      },
      "source": [
        ""
      ],
      "execution_count": null,
      "outputs": []
    }
  ]
}